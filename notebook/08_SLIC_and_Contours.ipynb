{
  "nbformat": 4,
  "nbformat_minor": 0,
  "metadata": {
    "colab": {
      "name": "08_SLIC_and_Contours.ipynb",
      "provenance": [],
      "collapsed_sections": []
    },
    "kernelspec": {
      "name": "python3",
      "display_name": "Python 3"
    }
  },
  "cells": [
    {
      "cell_type": "code",
      "metadata": {
        "id": "PQFFW6WMUi8-",
        "colab_type": "code",
        "colab": {}
      },
      "source": [
        "import sys\n",
        "import types\n",
        "import cv2\n",
        "import numpy as np\n",
        "from io import StringIO ## for Python 3\n",
        "from urllib.request import urlopen\n",
        "\n",
        "def load_code_from_url(url_path):\n",
        "  code_str = urlopen(url_path).read()\n",
        "  code_str = code_str.decode('utf-8')\n",
        "  return code_str\n",
        "\n",
        "code_str = load_code_from_url(\"https://raw.githubusercontent.com/hoat23/VisionArtificialAndImageProcessing/master/bin/utils_imgprocessing.py\")\n",
        "exec(code_str)"
      ],
      "execution_count": 34,
      "outputs": []
    },
    {
      "cell_type": "code",
      "metadata": {
        "id": "rXVck7jGU9Uk",
        "colab_type": "code",
        "colab": {
          "base_uri": "https://localhost:8080/",
          "height": 264
        },
        "outputId": "bcb50ee2-c3ae-46e2-d8ac-ef3c19a5648e"
      },
      "source": [
        "#url_img = \"https://raw.githubusercontent.com/hoat23/VisionArtificialAndImageProcessing/master/img/img_02.jpg\"\n",
        "url_img = \"https://raw.githubusercontent.com/hoat23/VisionArtificialAndImageProcessing/master/img/img_04_20x20.jpg\"\n",
        "img_orig = load_image_from_url(url_img)\n",
        "plt.imshow(img_orig)\n",
        "plt.show()"
      ],
      "execution_count": 56,
      "outputs": [
        {
          "output_type": "display_data",
          "data": {
            "image/png": "[encoded data removed]",
            "text/plain": [
              "<Figure size 432x288 with 1 Axes>"
            ]
          },
          "metadata": {
            "tags": [],
            "needs_background": "light"
          }
        }
      ]
    },
    {
      "cell_type": "code",
      "metadata": {
        "id": "gIAYihnaVchZ",
        "colab_type": "code",
        "colab": {
          "base_uri": "https://localhost:8080/",
          "height": 350
        },
        "outputId": "d3d82a12-7032-4233-8ca1-07796ca146c2"
      },
      "source": [
        "from skimage import data, segmentation\n",
        "from skimage.segmentation import mark_boundaries\n",
        "from skimage.future import graph\n",
        "from google.colab.patches import cv2_imshow\n",
        "\n",
        "img_tmp = img_orig.copy()\n",
        "\n",
        "# Aplying SLIC algorithm to get the matrix of labels with 4 segments\n",
        "n_segments = 4\n",
        "labels = segmentation.slic(img_tmp, compactness=30, n_segments=n_segments)\n",
        "img_boundaries_slic = mark_boundaries(img_tmp, labels,color=(255,0,0),background_label=3)\n",
        "print(labels)"
      ],
      "execution_count": 57,
      "outputs": [
        {
          "output_type": "stream",
          "text": [
            "[[0 0 0 0 0 0 0 0 0 1 1 1 1 1 1 1 1 1 1 1]\n",
            " [0 0 0 0 0 0 0 0 0 1 1 1 1 1 1 1 1 1 1 1]\n",
            " [0 0 0 0 0 0 0 0 0 2 2 1 1 1 1 1 1 1 1 1]\n",
            " [0 0 0 0 0 0 0 0 2 2 1 1 1 1 1 1 1 1 1 1]\n",
            " [0 0 0 0 0 0 0 2 2 1 1 1 1 1 1 1 1 1 1 1]\n",
            " [0 0 0 0 2 2 2 2 2 2 2 2 1 1 1 1 1 1 1 1]\n",
            " [0 0 0 2 2 2 2 2 2 2 2 2 2 1 1 1 1 1 1 1]\n",
            " [0 0 0 2 2 2 2 2 2 2 2 2 2 2 1 1 1 1 1 1]\n",
            " [0 0 0 2 2 2 2 2 2 2 2 2 2 2 2 1 1 1 1 1]\n",
            " [0 0 0 0 2 2 2 2 2 2 2 2 2 2 2 1 1 1 1 1]\n",
            " [0 0 0 0 0 0 2 2 2 2 2 2 2 2 2 2 1 1 1 1]\n",
            " [0 0 0 0 0 0 2 2 2 2 2 2 2 2 2 2 1 1 1 1]\n",
            " [0 0 0 0 0 2 2 2 2 2 2 2 2 2 2 2 3 3 3 1]\n",
            " [0 0 0 2 2 2 2 2 2 2 2 2 2 2 2 2 3 3 3 3]\n",
            " [0 0 2 2 2 2 2 3 2 2 2 2 2 2 2 3 3 3 3 3]\n",
            " [0 0 2 2 2 2 2 3 2 2 2 2 2 2 2 3 3 3 3 3]\n",
            " [0 0 2 2 2 2 2 3 3 2 2 2 2 2 3 3 3 3 3 3]\n",
            " [0 3 3 2 2 2 3 3 3 3 3 2 3 3 3 3 3 3 3 3]\n",
            " [3 3 3 3 3 3 3 3 3 3 3 3 3 3 3 3 3 3 3 3]\n",
            " [3 3 3 3 3 3 3 3 3 3 3 3 3 3 3 3 3 3 3 3]]\n"
          ],
          "name": "stdout"
        }
      ]
    },
    {
      "cell_type": "code",
      "metadata": {
        "id": "ymKBwkXeV6Ba",
        "colab_type": "code",
        "colab": {
          "base_uri": "https://localhost:8080/",
          "height": 597
        },
        "outputId": "40de47d4-d25e-46dc-da11-4f9b130c3120"
      },
      "source": [
        "img_copy = img_orig.copy()\n",
        "# Countours Detection\n",
        "filter_value = 2; threshold_level = 0; mode = cv2.RETR_EXTERNAL # _LIST _EXTERNAL _CCOMP _TREE\n",
        "\n",
        "mask_8bit = np.uint8( np.where(labels == filter_value, 1 , 0) )\n",
        "print(mask_8bit)\n",
        "_, binarized = cv2.threshold(mask_8bit, threshold_level, 255, cv2.THRESH_BINARY)\n",
        "contours, hierarchy = cv2.findContours(binarized, mode, cv2.CHAIN_APPROX_SIMPLE)\n",
        "\n",
        "# Drawing contours\n",
        "countourIdx=255; color = (0,255,0); thickness = 3\n",
        "img_show = cv2.drawContours(img_copy, contours, -1, (0, 255, 0), 1)\n",
        "plt.imshow(img_show)\n",
        "plt.show()"
      ],
      "execution_count": 58,
      "outputs": [
        {
          "output_type": "stream",
          "text": [
            "[[0 0 0 0 0 0 0 0 0 0 0 0 0 0 0 0 0 0 0 0]\n",
            " [0 0 0 0 0 0 0 0 0 0 0 0 0 0 0 0 0 0 0 0]\n",
            " [0 0 0 0 0 0 0 0 0 1 1 0 0 0 0 0 0 0 0 0]\n",
            " [0 0 0 0 0 0 0 0 1 1 0 0 0 0 0 0 0 0 0 0]\n",
            " [0 0 0 0 0 0 0 1 1 0 0 0 0 0 0 0 0 0 0 0]\n",
            " [0 0 0 0 1 1 1 1 1 1 1 1 0 0 0 0 0 0 0 0]\n",
            " [0 0 0 1 1 1 1 1 1 1 1 1 1 0 0 0 0 0 0 0]\n",
            " [0 0 0 1 1 1 1 1 1 1 1 1 1 1 0 0 0 0 0 0]\n",
            " [0 0 0 1 1 1 1 1 1 1 1 1 1 1 1 0 0 0 0 0]\n",
            " [0 0 0 0 1 1 1 1 1 1 1 1 1 1 1 0 0 0 0 0]\n",
            " [0 0 0 0 0 0 1 1 1 1 1 1 1 1 1 1 0 0 0 0]\n",
            " [0 0 0 0 0 0 1 1 1 1 1 1 1 1 1 1 0 0 0 0]\n",
            " [0 0 0 0 0 1 1 1 1 1 1 1 1 1 1 1 0 0 0 0]\n",
            " [0 0 0 1 1 1 1 1 1 1 1 1 1 1 1 1 0 0 0 0]\n",
            " [0 0 1 1 1 1 1 0 1 1 1 1 1 1 1 0 0 0 0 0]\n",
            " [0 0 1 1 1 1 1 0 1 1 1 1 1 1 1 0 0 0 0 0]\n",
            " [0 0 1 1 1 1 1 0 0 1 1 1 1 1 0 0 0 0 0 0]\n",
            " [0 0 0 1 1 1 0 0 0 0 0 1 0 0 0 0 0 0 0 0]\n",
            " [0 0 0 0 0 0 0 0 0 0 0 0 0 0 0 0 0 0 0 0]\n",
            " [0 0 0 0 0 0 0 0 0 0 0 0 0 0 0 0 0 0 0 0]]\n"
          ],
          "name": "stdout"
        },
        {
          "output_type": "display_data",
          "data": {
            "image/png": "[encoded data removed]",
            "text/plain": [
              "<Figure size 432x288 with 1 Axes>"
            ]
          },
          "metadata": {
            "tags": [],
            "needs_background": "light"
          }
        }
      ]
    },
    {
      "cell_type": "code",
      "metadata": {
        "id": "APPnQjzcVwMJ",
        "colab_type": "code",
        "colab": {
          "base_uri": "https://localhost:8080/",
          "height": 331
        },
        "outputId": "f45f3609-d7d2-49e7-b0f8-756eac2bc2e9"
      },
      "source": [
        "cnt = contours[0]\n",
        "area = cv2.contourArea(cnt)\n",
        "x,y,w,h = cv2.boundingRect(cnt)\n",
        "print(\"         Area  :\", area)\n",
        "print(\"         Po    : (\", x,\",\",y,\")\")\n",
        "print(\"         Width :\", w)\n",
        "print(\"         Higth :\", h)\n",
        "\n",
        "img_copy = img_orig.copy()\n",
        "img_rectangle_contour = cv2.rectangle(img_copy,(x,y),(x+w,y+h),(0,255,0),1)\n",
        "plt.imshow(img_rectangle_contour)\n",
        "plt.show()"
      ],
      "execution_count": 59,
      "outputs": [
        {
          "output_type": "stream",
          "text": [
            "         Area  : 114.5\n",
            "         Po    : ( 2 , 2 )\n",
            "         Width : 14\n",
            "         Higth : 16\n"
          ],
          "name": "stdout"
        },
        {
          "output_type": "display_data",
          "data": {
            "image/png": "[encoded data removed]",
            "text/plain": [
              "<Figure size 432x288 with 1 Axes>"
            ]
          },
          "metadata": {
            "tags": [],
            "needs_background": "light"
          }
        }
      ]
    },
    {
      "cell_type": "code",
      "metadata": {
        "id": "0c0waDGDM7F5",
        "colab_type": "code",
        "colab": {
          "base_uri": "https://localhost:8080/",
          "height": 264
        },
        "outputId": "88959cb0-b993-4d30-df42-bdf8cbe29984"
      },
      "source": [
        "# Building a image with 4 channel (transparency)\n",
        "img_copy = img_orig.copy()\n",
        "img_4ch = np.dstack([img_copy, binarized])\n",
        "\n",
        "# Setting the figure size\n",
        "plt.figure(figsize=(10,4))\n",
        "ax = plt.axes()\n",
        "# Setting the background color grey\n",
        "ax.set_facecolor(\"gray\")\n",
        "plt.imshow(img_4ch)\n",
        "plt.show()"
      ],
      "execution_count": 90,
      "outputs": [
        {
          "output_type": "display_data",
          "data": {
            "image/png": "[encoded data removed]",
            "text/plain": [
              "<Figure size 720x288 with 1 Axes>"
            ]
          },
          "metadata": {
            "tags": [],
            "needs_background": "light"
          }
        }
      ]
    },
    {
      "cell_type": "code",
      "metadata": {
        "id": "I3ad_zpCWNTV",
        "colab_type": "code",
        "colab": {}
      },
      "source": [
        ""
      ],
      "execution_count": null,
      "outputs": []
    }
  ]
}