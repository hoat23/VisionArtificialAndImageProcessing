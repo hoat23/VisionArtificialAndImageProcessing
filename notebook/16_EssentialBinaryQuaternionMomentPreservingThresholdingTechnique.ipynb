{
  "nbformat": 4,
  "nbformat_minor": 0,
  "metadata": {
    "colab": {
      "name": "16_EssentialBinaryQuaternionMomentPreservingThresholdingTechnique.ipynb",
      "provenance": [],
      "collapsed_sections": []
    },
    "kernelspec": {
      "name": "python3",
      "display_name": "Python 3"
    },
    "accelerator": "GPU"
  },
  "cells": [
    {
      "cell_type": "code",
      "metadata": {
        "id": "e-Yy0YHp7r0K"
      },
      "source": [
        "import numpy as np\n",
        "import pandas as pd"
      ],
      "execution_count": null,
      "outputs": []
    },
    {
      "cell_type": "code",
      "metadata": {
        "id": "o6G_zLuVFcno",
        "outputId": "7fb911d5-5757-410b-d296-b57580d85614",
        "colab": {
          "base_uri": "https://localhost:8080/",
          "height": 100
        }
      },
      "source": [
        "!pip install pyquaternion"
      ],
      "execution_count": null,
      "outputs": [
        {
          "output_type": "stream",
          "text": [
            "Collecting pyquaternion\n",
            "  Downloading https://files.pythonhosted.org/packages/49/b3/d8482e8cacc8ea15a356efea13d22ce1c5914a9ee36622ba250523240bf2/pyquaternion-0.9.9-py3-none-any.whl\n",
            "Requirement already satisfied: numpy in /usr/local/lib/python3.6/dist-packages (from pyquaternion) (1.18.5)\n",
            "Installing collected packages: pyquaternion\n",
            "Successfully installed pyquaternion-0.9.9\n"
          ],
          "name": "stdout"
        }
      ]
    },
    {
      "cell_type": "code",
      "metadata": {
        "id": "E-n2giMK9j4Q"
      },
      "source": [
        "#http://kieranwynn.github.io/pyquaternion\n",
        "from pyquaternion import Quaternion\n",
        "\n",
        "\"\"\"This function convert every element of array to Quaternion\"\"\"\n",
        "def to_quaternion(array_of_elem: np.array) -> np.array:\n",
        "  # Validate type\n",
        "  if type(array_of_elem[0]) == Quaternion: \n",
        "    return np.array(array_of_elem)\n",
        "  try:\n",
        "    array_of_quaterions = list( map(Quaternion, array_of_elem) )\n",
        "  except:\n",
        "    print(\"WARN | to_quaternion\\ntypes list: {0}\\ntypes elem: {1}\".format(type(array_of_elem), type(array_of_elem[0])) )\n",
        "    array_of_quaterions = array_of_elem\n",
        "  finally:\n",
        "    return np.array(array_of_quaterions)\n",
        "\n",
        "\"\"\"This function compute the first moment of array of Quaternions\"\"\"\n",
        "def first_moment(array_of_elem: np.array) -> Quaternion:\n",
        "  array_of_elem = to_quaternion(array_of_elem)\n",
        "  q = np.sum(array_of_elem, axis=0) / len(array_of_elem)\n",
        "  return q\n",
        "\n",
        "\"\"\"This function compute the second moment of array of Quaternions\"\"\"\n",
        "def second_moment(array_of_elem: np.array) -> Quaternion:\n",
        "  array_of_elem = to_quaternion(array_of_elem)\n",
        "  tmp_vectors = list( map(lambda q:q*q.conjugate, array_of_elem) )\n",
        "  return first_moment(tmp_vectors)\n",
        "\n",
        "\"\"\"This function compute the third moment of array of Quaternions\"\"\"\n",
        "def third_moment(array_of_elem: np.array) -> Quaternion:\n",
        "  array_of_elem = to_quaternion(array_of_elem)\n",
        "  tmp_vectors = list( map(lambda q:q*q.conjugate*q , array_of_elem) )\n",
        "  return first_moment(tmp_vectors)\n",
        "\n",
        "\"\"\"This function compute the 1,2 and 3 moment of array of Quaternions\"\"\"\n",
        "def compute_moments(array_of_elem: np.array) -> np.array:\n",
        "  m1 = first_moment(array_of_elem)\n",
        "  m2 = second_moment(array_of_elem)\n",
        "  m3 = third_moment(array_of_elem)\n",
        "  return [m1,m2,m3]"
      ],
      "execution_count": null,
      "outputs": []
    },
    {
      "cell_type": "code",
      "metadata": {
        "id": "aXbChnAY1cUQ"
      },
      "source": [
        "import math\n",
        "\n",
        "\"\"\"This function compute the z0 and z1\"\"\"\n",
        "def calculate_z(M1: Quaternion, M2:Quaternion, M3:Quaternion):\n",
        "  C1 = (M3 - M1*M2)/(M1*M1.conjugate - M2)\n",
        "  C0 = -(M1.conjugate*C1 + M2)\n",
        "  # Extration of component\n",
        "  c10, c11, c12, c13 = C1\n",
        "  c00,   _,   _,   _ = C0\n",
        "  # Computing temporal variables\n",
        "  pow_c13c12 = c13*c13 + c12*c12\n",
        "  U = (c10*c12 - c11*c13)/pow_c13c12\n",
        "  V = (c11*c12 + c10*c13)/pow_c13c12\n",
        "  W = (c11*V + c10*U + c12)/(c10*V - c11*U + c13)\n",
        "  a1 = ( 1 + W*W )*( 1 + U*U + V*V)\n",
        "  a2 = W * ( U*c10 + V*c11 + c12) - U*c11 + V*c10 + c13\n",
        "  # Solving a1^2 * z3^2 + a2*z3 + c00 = 0\n",
        "  d = math.sqrt( a2*a2 - 4*a1*c00 ) \n",
        "  z03 = - (a2 - d) / (2*a1)\n",
        "  z13 = - (a2 + d) / (2*a1)\n",
        "  z02 = W * z03\n",
        "  z12 = W * z13\n",
        "  z01 = (W*V - U) * z03\n",
        "  z11 = (W*V - U) * z13\n",
        "  z00 = (W*U + V) * z03\n",
        "  z10 = (W*U + V) * z13\n",
        "  Z0 = Quaternion(z00, z01, z02, z03)\n",
        "  Z1 = Quaternion(z10, z11, z12, z13)\n",
        "  return Z1, Z0"
      ],
      "execution_count": null,
      "outputs": []
    },
    {
      "cell_type": "code",
      "metadata": {
        "id": "VHYzBQwhqFtm"
      },
      "source": [
        "def decision_boundary(Z0:Quaternion, Z1:Quaternion):\n",
        "  z10, z11, z12, z13 = Z1\n",
        "  z00, z01, z02, z03 = Z0\n",
        "  Z0Z0 = z00*z00 + z01*z01 + z02*z02 + z03*z03\n",
        "  Z1Z1 = z10*z10 + z11*z11 + z12*z12 + z13*z13\n",
        "  s = (Z0Z0-Z1Z1)/(2*(z00-z10))\n",
        "  t1 = (z01 - z11)/(z00-z10)\n",
        "  t2 = (z02 - z12)/(z00-z10)\n",
        "  t3 = (z03 - z13)/(z00-z10)\n",
        "  return s,t1,t2,t3\n",
        "\n",
        "def clasification(Q:np.array, Z0:Quaternion , Z1:Quaternion):\n",
        "  s, t1, t2, t3 = decision_boundary(Z0,Z1)\n",
        "  bitmap = []; list_p0 = []; list_p1 = []\n",
        "  for one_quaternio in Q:\n",
        "    q0, q1, q2, q3 = one_quaternio\n",
        "    q_diff = q0 - (s - t1*q1 - t2*q2 - t3*q3)\n",
        "    if q_diff > 0:\n",
        "      bitmap.append(1)\n",
        "      list_p1.append(one_quaternio)\n",
        "    else:\n",
        "      bitmap.append(0)\n",
        "      list_p0.append(one_quaternio)\n",
        "  array_z0 = np.array( list_p0 )\n",
        "  array_z1 = np.array( list_p1 )\n",
        "  return np.array(bitmap), [array_z0, array_z1]"
      ],
      "execution_count": null,
      "outputs": []
    },
    {
      "cell_type": "code",
      "metadata": {
        "id": "bIg81ucsn2eQ"
      },
      "source": [
        "def BQMP_thresholding(Q_data: np.array):\n",
        "  Q = to_quaternion(Q_data)\n",
        "  moments = [M1, M2, M3] = compute_moments(Q)\n",
        "  # Doing M1 = 0, by preserve moments\n",
        "  Q_ = Q - M1\n",
        "  M1_, M2_, M3_ = compute_moments(Q_)\n",
        "  #print(\"M1  : {0} \\n M2  : {1} \\n M3  : {2}\".format(M1, M2, M3) )\n",
        "  #print(\"M1_ : {0} \\n M2_ : {1} \\n M3_ : {2}\".format(M1_, M2_, M3_) )\n",
        "  # Calculate Z0 & Z1\n",
        "  Z1_, Z0_ = calculate_z(M1_,M2_,M3_)\n",
        "  #print(\"Z1_ : {0} \\n Z0_ : {1}\".format(Z1_, Z0_) )\n",
        "  # Real value Z0 & Z1\n",
        "  Z1 = Z1_ + M1\n",
        "  Z0 = Z0_ + M1\n",
        "  # Approximate to p0 & p1\n",
        "  array_bitmap, [array_z0,array_z1] = clasification(Q,Z0,Z1)\n",
        "  return Z1, Z0, array_bitmap, [array_z0,array_z1], moments"
      ],
      "execution_count": null,
      "outputs": []
    },
    {
      "cell_type": "code",
      "metadata": {
        "id": "K4fjTNi_1chK",
        "outputId": "8c163df1-73a8-4dfe-aedc-017f26445e83",
        "colab": {
          "base_uri": "https://localhost:8080/",
          "height": 618
        }
      },
      "source": [
        "# Paper reference:\n",
        "# https://github.com/hoat23/VisionArtificialAndImageProcessing/blob/master/papers/ColorImageProcessByUsingBQMPThresholdingTechnique.pdf\n",
        "Q =[[  8, 12, 19,  9], [  7, 13, 14, 13], [ 11, 14, 19, 10], [ 13, 10, 16,  9],\n",
        "    [ 80,117, 53, 98], [ 88,118, 63,103], [105,106, 88, 89], [109,117, 71,106],\n",
        "    [ 90,112, 49, 92], [ 99,113, 34, 84], [ 10, 17, 17, 18], [113,115, 77,117],\n",
        "    [100,117, 34, 89], [102,115, 43, 93], [ 12, 13, 12, 17], [110,112, 70,122]]\n",
        "Q = np.array(Q)\n",
        "print(\"Q      : \\n {0}\".format(Q))\n",
        "Z1, Z0, array_bitmap, [array_z0,array_z1], moments = BQMP_thresholding(Q)\n",
        "p0 = len(array_z0) / (len(array_z1) + len(array_z0))\n",
        "p1 = len(array_z1) / (len(array_z1) + len(array_z0))\n",
        "bitmap = np.reshape(array_bitmap, (4, 4))\n",
        "print(\"\\n\")\n",
        "print(\"M1     : \", moments[0])\n",
        "print(\"M2     : \", moments[1])\n",
        "print(\"M3     : \", moments[2])\n",
        "print(\"\\n\")\n",
        "print(\"Z0     : \", Z0)\n",
        "print(\"Z1     : \", Z1)\n",
        "print(\"\\n\")\n",
        "print(\"p0     : \", p0)\n",
        "print(\"p1     : \", p1)\n",
        "print(\"\\n\")\n",
        "print(\"bitmap : \\n\", bitmap)"
      ],
      "execution_count": null,
      "outputs": [
        {
          "output_type": "stream",
          "text": [
            "Q      : \n",
            " [[  8  12  19   9]\n",
            " [  7  13  14  13]\n",
            " [ 11  14  19  10]\n",
            " [ 13  10  16   9]\n",
            " [ 80 117  53  98]\n",
            " [ 88 118  63 103]\n",
            " [105 106  88  89]\n",
            " [109 117  71 106]\n",
            " [ 90 112  49  92]\n",
            " [ 99 113  34  84]\n",
            " [ 10  17  17  18]\n",
            " [113 115  77 117]\n",
            " [100 117  34  89]\n",
            " [102 115  43  93]\n",
            " [ 12  13  12  17]\n",
            " [110 112  70 122]]\n",
            "\n",
            "\n",
            "M1     :  66.062 +76.312i +42.438j +66.812k\n",
            "M2     :  23256.875 +0.000i +0.000j +0.000k\n",
            "M3     :  2316254.250 +2627624.812i +1386238.938j +2319902.000k\n",
            "\n",
            "\n",
            "Z0     :  101.780 +119.593i +56.310j +100.844k\n",
            "Z1     :  12.050 +10.864i +21.460j +15.351k\n",
            "\n",
            "\n",
            "p0     :  0.375\n",
            "p1     :  0.625\n",
            "\n",
            "\n",
            "bitmap : \n",
            " [[0 0 0 0]\n",
            " [1 1 1 1]\n",
            " [1 1 0 1]\n",
            " [1 1 0 1]]\n"
          ],
          "name": "stdout"
        }
      ]
    },
    {
      "cell_type": "code",
      "metadata": {
        "id": "GJkiYe269EVs",
        "outputId": "3423534d-d49d-405f-8be2-daac93e62d99",
        "colab": {
          "base_uri": "https://localhost:8080/",
          "height": 423
        }
      },
      "source": [
        "# Paper reference:\n",
        "# file:///C:/Users/LENOVO/Downloads/papers/Color-Texture_Pattern_Classification_Using_Global.pdf\n",
        "\n",
        "# Defining colors \n",
        "S = [0,   0, 255, 255]\n",
        "B = [0,   0,   0, 255]\n",
        "R = [0, 255,   0,   0]\n",
        "G = [0,   0, 255,   0]\n",
        "print(\"Defining colors \")\n",
        "print(\"Sky  : {0}\".format(S))\n",
        "print(\"Blue : {0}\".format(B))\n",
        "print(\"Red  : {0}\".format(R))\n",
        "print(\"Green: {0}\".format(G))\n",
        "print(\"\\n\")\n",
        "Q_data = [  R, G, S,\n",
        "            R, S, S,\n",
        "            B, B, B]\n",
        "Q_data = np.array(Q_data)\n",
        "Q = to_quaternion(Q_data)\n",
        "M1, M2, M3 = compute_moments(Q)\n",
        "print(\" M1  : {0} \\n M2  : {1} \\n M3  : {2}\\n\".format(M1, M2, M3) )\n",
        "Q_ = Q - M1\n",
        "M1_, M2_, M3_ = compute_moments(Q_)\n",
        "print(\" M1_ : {0} \\n M2_ : {1} \\n M3_ : {2}\\n\".format(M1_, M2_, M3_) )\n",
        "Z1_, Z0_ = calculate_z(M1_,M2_,M3_)\n",
        "print(\" Z1_ : {0} \\n Z0_ : {1}\\n\".format(Z1_, Z0_) )\n",
        "# Real value Z0 & Z1\n",
        "Z1 = Z1_ + M1\n",
        "Z0 = Z0_ + M1\n",
        "print(\" Z1  : {0} \\n Z0  : {1}\\n\".format(Z1, Z0) )\n",
        "# Approximate to p0 & p1\n",
        "bitmap, [array_z0, array_z1] = clasification(Q,Z0,Z1)\n",
        "c0 = len(array_z0); c1 = len(array_z1)\n",
        "z1 = np.sum(array_z1) / c1\n",
        "z0 = np.sum(array_z0) / c0\n",
        "print(\"z averange\")\n",
        "print(\" z1  : {1} x ({0}) \\n z0  : {3} x ({2})\\n\".format(z1, c1 , z0, c0) )"
      ],
      "execution_count": null,
      "outputs": [
        {
          "output_type": "stream",
          "text": [
            "Defining colors \n",
            "Sky  : [0, 0, 255, 255]\n",
            "Blue : [0, 0, 0, 255]\n",
            "Red  : [0, 255, 0, 0]\n",
            "Green: [0, 0, 255, 0]\n",
            "\n",
            "\n",
            " M1  : +0.000 +56.667i +113.333j +170.000k \n",
            " M2  : +86700.000 +0.000i +0.000j +0.000k \n",
            " M3  : +0.000 +3684750.000i +12896625.000j +16581375.000k\n",
            "\n",
            " M1_ : +0.000 +0.000i +0.000j +0.000k \n",
            " M2_ : +41744.444 +0.000i +0.000j +0.000k \n",
            " M3_ : +0.000 +2229046.296i -659615.741j -2524736.111k\n",
            "\n",
            " Z1_ : -0.000 +162.061i -47.957j -183.559k \n",
            " Z0_ : +0.000 -108.664i +32.156j +123.078k\n",
            "\n",
            " Z1  : -0.000 +218.728i +65.376j -13.559k \n",
            " Z0  : +0.000 -51.997i +145.489j +293.078k\n",
            "\n",
            "z averange\n",
            " z1  : 6 x (+0.000 +0.000i +127.500j +255.000k) \n",
            " z0  : 3 x (+0.000 +170.000i +85.000j +0.000k)\n",
            "\n"
          ],
          "name": "stdout"
        }
      ]
    },
    {
      "cell_type": "code",
      "metadata": {
        "id": "vT9zzfidV1GX"
      },
      "source": [
        "Q = array_z0\n",
        "print(\"Q:\\n\", Q, \"\\n\")\n",
        "M1, M2, M3 = compute_moments(Q)\n",
        "print(\" M1  : {0} \\n M2  : {1} \\n M3  : {2}\\n\".format(M1, M2, M3) )\n",
        "Q_ = Q - M1\n",
        "M1_, M2_, M3_ = compute_moments(Q_)\n",
        "print(\" M1_ : {0} \\n M2_ : {1} \\n M3_ : {2}\\n\".format(M1_, M2_, M3_) )\n",
        "Z1_, Z0_ = calculate_z(M1_,M2_,M3_)\n",
        "print(\" Z1_ : {0} \\n Z0_ : {1}\\n\".format(Z1_, Z0_) )\n",
        "# Real value Z0 & Z1\n",
        "Z1 = Z1_ + M1\n",
        "Z0 = Z0_ + M1\n",
        "print(\" Z1  : {0} \\n Z0  : {1}\\n\".format(Z1, Z0) )\n",
        "# Approximate to p0 & p1\n",
        "bitmap, [array_z0, array_z1] = clasification(Q,Z0,Z1)\n",
        "c0 = len(array_z0); c1 = len(array_z1)\n",
        "z1 = np.sum(array_z1) / c1\n",
        "z0 = np.sum(array_z0) / c0\n",
        "print(\"z averange\")\n",
        "print(\" z1  : {1} x ({0}) \\n z0  : {3} x ({2})\\n\".format(z1, c1 , z0, c0) )"
      ],
      "execution_count": null,
      "outputs": []
    }
  ]
}