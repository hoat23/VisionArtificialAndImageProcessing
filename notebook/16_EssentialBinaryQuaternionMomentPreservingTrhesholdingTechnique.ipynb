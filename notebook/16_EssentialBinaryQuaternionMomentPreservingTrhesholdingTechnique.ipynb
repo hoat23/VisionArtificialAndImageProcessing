{
  "nbformat": 4,
  "nbformat_minor": 0,
  "metadata": {
    "colab": {
      "name": "BinaryQuaternionMomentPreservingTrhesholdingTechinque.ipynb",
      "provenance": []
    },
    "kernelspec": {
      "name": "python3",
      "display_name": "Python 3"
    }
  },
  "cells": [
    {
      "cell_type": "code",
      "metadata": {
        "id": "e-Yy0YHp7r0K"
      },
      "source": [
        "import numpy as np\n",
        "import pandas as pd"
      ],
      "execution_count": 10,
      "outputs": []
    },
    {
      "cell_type": "code",
      "metadata": {
        "id": "o6G_zLuVFcno",
        "outputId": "d5cf5ae3-bcf0-4584-fd7a-8c9fc9026052",
        "colab": {
          "base_uri": "https://localhost:8080/",
          "height": 51
        }
      },
      "source": [
        "!pip install pyquaternion"
      ],
      "execution_count": 11,
      "outputs": [
        {
          "output_type": "stream",
          "text": [
            "Requirement already satisfied: pyquaternion in /usr/local/lib/python3.6/dist-packages (0.9.5)\n",
            "Requirement already satisfied: numpy in /usr/local/lib/python3.6/dist-packages (from pyquaternion) (1.18.5)\n"
          ],
          "name": "stdout"
        }
      ]
    },
    {
      "cell_type": "code",
      "metadata": {
        "id": "E-n2giMK9j4Q"
      },
      "source": [
        "#http://kieranwynn.github.io/pyquaternion\n",
        "from pyquaternion import Quaternion\n",
        "\n",
        "def to_quaternion(list_of_vectors):\n",
        "  new_list = []\n",
        "  for one_vector in list_of_vectors:\n",
        "    new_list.append(Quaternion(one_vector))\n",
        "  return new_list\n",
        "\n",
        "def first_moment(list_of_vectors):\n",
        "  q = np.sum(list_of_vectors, axis=0) / len(list_of_vectors)\n",
        "  return Quaternion(q)\n",
        "\n",
        "def second_moment(list_of_vectors):\n",
        "  tmp_vectors = []\n",
        "  for vector in list_of_vectors:\n",
        "    Q = Quaternion(vector)\n",
        "    Q_conj = Q.conjugate\n",
        "    tmp_vectors.append(Q*Q_conj)\n",
        "  return first_moment(tmp_vectors)\n",
        "\n",
        "def third_moment(list_of_vectors):\n",
        "  tmp_vectors = []\n",
        "  for vector in list_of_vectors:\n",
        "    Q = Quaternion(vector)\n",
        "    Q_conj = Q.conjugate\n",
        "    tmp_vectors.append(Q*Q_conj*Q)\n",
        "  return first_moment(tmp_vectors)\n",
        "\n",
        "def compute_moments(list_of_vectors):\n",
        "  list_of_vectors = to_quaternion(list_of_vectors)\n",
        "  m1 = first_moment(list_of_vectors)\n",
        "  m2 = second_moment(list_of_vectors)\n",
        "  m3 = third_moment(list_of_vectors)\n",
        "  return [m1,m2,m3]"
      ],
      "execution_count": 12,
      "outputs": []
    },
    {
      "cell_type": "code",
      "metadata": {
        "id": "aXbChnAY1cUQ"
      },
      "source": [
        "import math\n",
        "def calculate_z(M1,M2,M3):\n",
        "  C1 = (M3 - M1*M2)/(M1*M1.conjugate - M2)\n",
        "  C0 = -(M1.conjugate*C1 + M2)\n",
        "  # Extration of component\n",
        "  c10, c11, c12, c13 = C1\n",
        "  c00,   _,   _,   _ = C0\n",
        "  # Computing temporal variables\n",
        "  pow_c13c12 = c13*c13 + c12*c12\n",
        "  U = (c10*c12 - c11*c13)/pow_c13c12\n",
        "  V = (c11*c12 + c10*c13)/pow_c13c12\n",
        "  W = (c11*V + c10*U + c12)/(c10*V - c11*U + c13)\n",
        "  a1 = ( 1 + W*W )*( 1 + U*U + V*V)\n",
        "  a2 = W * ( U*c10 + V*c11 + c12) - U*c11 + V*c10 + c13\n",
        "  # Solving a1^2 * z3^2 + a2*z3 + c00 = 0\n",
        "  d = math.sqrt( a2*a2 - 4*a1*c00 ) \n",
        "  z03 = - (a2 - d) / (2*a1)\n",
        "  z13 = - (a2 + d) / (2*a1)\n",
        "  z02 = W * z03\n",
        "  z12 = W * z13\n",
        "  z01 = (W*V - U) * z03\n",
        "  z11 = (W*V - U) * z13\n",
        "  z00 = (W*U + V) * z03\n",
        "  z10 = (W*U + V) * z13\n",
        "  Z0 = Quaternion(z00, z01, z02, z03)\n",
        "  Z1 = Quaternion(z10, z11, z12, z13)\n",
        "  return Z1, Z0"
      ],
      "execution_count": 5,
      "outputs": []
    },
    {
      "cell_type": "code",
      "metadata": {
        "id": "VHYzBQwhqFtm"
      },
      "source": [
        "def decision_boundary(Z0,Z1):\n",
        "  z10, z11, z12, z13 = Z1\n",
        "  z00, z01, z02, z03 = Z0\n",
        "  Z0Z0 = z00*z00 + z01*z01 + z02*z02 + z03*z03\n",
        "  Z1Z1 = z10*z10 + z11*z11 + z12*z12 + z13*z13\n",
        "  s = (Z0Z0-Z1Z1)/(2*(z00-z10))\n",
        "  t1 = (z01 - z11)/(z00-z10)\n",
        "  t2 = (z02 - z12)/(z00-z10)\n",
        "  t3 = (z03 - z13)/(z00-z10)\n",
        "  return s,t1,t2,t3\n",
        "\n",
        "def clasification(Q,Z0,Z1):\n",
        "  s, t1, t2, t3 = decision_boundary(Z0,Z1)\n",
        "  bitmap = []\n",
        "  count_1 = 0\n",
        "  count_0 = 0\n",
        "  for one_quaternio in Q:\n",
        "    q0, q1, q2, q3 = one_quaternio\n",
        "    q_diff = q0 - (s - t1*q1 - t2*q2 - t3*q3)\n",
        "    if q_diff > 0:\n",
        "      bitmap.append(1)\n",
        "      count_1 = count_1 + 1\n",
        "    else:\n",
        "      bitmap.append(0)\n",
        "      count_0 = count_0 + 1\n",
        "  p0 = count_0 / (count_0+count_1)\n",
        "  p1 = count_1 / (count_0+count_1)\n",
        "  return np.array(bitmap) , p0 , p1"
      ],
      "execution_count": 6,
      "outputs": []
    },
    {
      "cell_type": "code",
      "metadata": {
        "id": "bIg81ucsn2eQ"
      },
      "source": [
        "def BQMP_thresholding(Q_data):\n",
        "  Q = to_quaternion(Q_data)\n",
        "  M1, M2, M3 = compute_moments(Q)\n",
        "  # Doing M1 = 0, by preserve moments\n",
        "  Q_ = Q - np.array( M1 )\n",
        "  M1_, M2_, M3_ = compute_moments(Q_)\n",
        "  #print(\"M1  : {0} \\n M2  : {1} \\n M3  : {0}\".format(M1, M2, M3) )\n",
        "  #print(\"M1_ : {0} \\n M2_ : {1} \\n M3_ : {0}\".format(M1_, M2_, M3_) )\n",
        "  # Calculate Z0 & Z1\n",
        "  Z1_, Z0_ = calculate_z(M1_,M2_,M3_)\n",
        "  # Real value Z0 & Z1\n",
        "  Z1 = Z1_ + M1\n",
        "  Z0 = Z0_ + M1\n",
        "  # Approximate to p0 & p1\n",
        "  array_bitmap, p0, p1 = clasification(Q,Z0,Z1)\n",
        "  return Z1, Z0, array_bitmap, p0, p1"
      ],
      "execution_count": 27,
      "outputs": []
    },
    {
      "cell_type": "code",
      "metadata": {
        "id": "mZM-hy7W4SnD",
        "outputId": "0eb7ea85-bf48-4c41-ec8a-1fd6910056e1",
        "colab": {
          "base_uri": "https://localhost:8080/",
          "height": 408
        }
      },
      "source": [
        "Q =[[  8, 12, 19,  9], [  7, 13, 14, 13], [ 11, 14, 19, 10], [ 13, 10, 16,  9],\n",
        "    [ 80,117, 53, 98], [ 88,118, 63,103], [105,106, 88, 89], [109,117, 71,106],\n",
        "    [ 90,112, 49, 92], [ 99,113, 34, 84], [ 10, 17, 17, 18], [113,115, 77,117],\n",
        "    [100,117, 34, 89], [102,115, 43, 93], [ 12, 13, 12, 17], [110,112, 70,122]]\n",
        "Q = np.array(Q)\n",
        "print(\"Q      : \\n {0} \\n\".format(Q))\n",
        "Z1, Z0, bitmap, p0, p1 = BQMP_thresholding(Q)\n",
        "print(\"Z0     : \", Z0)\n",
        "print(\"Z1     : \", Z1)\n",
        "print(\"p0     : \", p0)\n",
        "print(\"p1     : \", p1)\n",
        "print(\"bitmap : \", bitmap)"
      ],
      "execution_count": 31,
      "outputs": [
        {
          "output_type": "stream",
          "text": [
            "Q      : \n",
            " [[  8  12  19   9]\n",
            " [  7  13  14  13]\n",
            " [ 11  14  19  10]\n",
            " [ 13  10  16   9]\n",
            " [ 80 117  53  98]\n",
            " [ 88 118  63 103]\n",
            " [105 106  88  89]\n",
            " [109 117  71 106]\n",
            " [ 90 112  49  92]\n",
            " [ 99 113  34  84]\n",
            " [ 10  17  17  18]\n",
            " [113 115  77 117]\n",
            " [100 117  34  89]\n",
            " [102 115  43  93]\n",
            " [ 12  13  12  17]\n",
            " [110 112  70 122]] \n",
            "\n",
            "Z0     :  101.780 +119.593i +56.310j +100.844k\n",
            "Z1     :  12.050 +10.864i +21.460j +15.351k\n",
            "p0     :  0.375\n",
            "p1     :  0.625\n",
            "bitmap :  [0 0 0 0 1 1 1 1 1 1 0 1 1 1 0 1]\n"
          ],
          "name": "stdout"
        }
      ]
    }
  ]
}
